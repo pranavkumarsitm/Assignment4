{
 "cells": [
  {
   "cell_type": "raw",
   "id": "80a5254e-d3da-44ab-9c7e-b5b48109c095",
   "metadata": {},
   "source": [
    "Q1. Create a python program to sort the given list of tuples based on integer value using a lambda function.\n",
    "[('Sachin Tendulkar', 34357), ('Ricky Ponting', 27483), ('Jack Kallis', 25534), ('Virat Kohli', 24936)]"
   ]
  },
  {
   "cell_type": "code",
   "execution_count": 15,
   "id": "ad7ef4a9-a280-4ada-8a86-fec9d096a883",
   "metadata": {},
   "outputs": [],
   "source": [
    "l = [('Sachin Tendulkar', 34357), ('Ricky Ponting', 27483), ('Jack Kallis', 25534), ('Virat Kohli', 24936)]"
   ]
  },
  {
   "cell_type": "code",
   "execution_count": 16,
   "id": "7b861bac-fef3-44b6-8065-5946b84139a2",
   "metadata": {},
   "outputs": [
    {
     "data": {
      "text/plain": [
       "[('Sachin Tendulkar', 34357),\n",
       " ('Ricky Ponting', 27483),\n",
       " ('Jack Kallis', 25534),\n",
       " ('Virat Kohli', 24936)]"
      ]
     },
     "execution_count": 16,
     "metadata": {},
     "output_type": "execute_result"
    }
   ],
   "source": [
    "l"
   ]
  },
  {
   "cell_type": "code",
   "execution_count": 99,
   "id": "67de2818-8e77-48d1-959a-99b9ef814245",
   "metadata": {},
   "outputs": [
    {
     "name": "stdout",
     "output_type": "stream",
     "text": [
      "<function <lambda> at 0x7fbe64704430>\n"
     ]
    }
   ],
   "source": [
    "a = lambda x : x.sort(key=int(**kwargs), reverse=True)\n",
    "print(a)"
   ]
  },
  {
   "cell_type": "code",
   "execution_count": null,
   "id": "52faf6b9-1eea-43ba-af8e-5255459e77ab",
   "metadata": {},
   "outputs": [],
   "source": []
  },
  {
   "cell_type": "code",
   "execution_count": null,
   "id": "050a1f12-dc15-4edd-ba7f-1f5a608e0833",
   "metadata": {},
   "outputs": [],
   "source": []
  },
  {
   "cell_type": "raw",
   "id": "ca70c178-dffb-4803-a291-3c173c267b12",
   "metadata": {},
   "source": [
    "Q2. Write a Python Program to find the sqaure of all the numbers in the given list of integers using lambda and map functions.\n",
    "[1,2,3,4,5,6,7,8,9,10]"
   ]
  },
  {
   "cell_type": "code",
   "execution_count": 25,
   "id": "2cf89816-02bd-4a0e-ba61-c2be6d7bf55b",
   "metadata": {},
   "outputs": [],
   "source": [
    "l1= [1,2,3,4,5,6,7,8,9,10]"
   ]
  },
  {
   "cell_type": "code",
   "execution_count": 26,
   "id": "60f7d7b6-9067-4afc-80ad-83a0d04e7ee8",
   "metadata": {},
   "outputs": [
    {
     "data": {
      "text/plain": [
       "[1, 2, 3, 4, 5, 6, 7, 8, 9, 10]"
      ]
     },
     "execution_count": 26,
     "metadata": {},
     "output_type": "execute_result"
    }
   ],
   "source": [
    "l1"
   ]
  },
  {
   "cell_type": "code",
   "execution_count": 27,
   "id": "328c487c-50bc-44db-99b1-169668b3f78d",
   "metadata": {},
   "outputs": [
    {
     "data": {
      "text/plain": [
       "[1, 4, 9, 16, 25, 36, 49, 64, 81, 100]"
      ]
     },
     "execution_count": 27,
     "metadata": {},
     "output_type": "execute_result"
    }
   ],
   "source": [
    "list(map(lambda x: x**2, l1))"
   ]
  },
  {
   "cell_type": "code",
   "execution_count": null,
   "id": "86021d32-d757-4aef-90f0-d83c5e2e922a",
   "metadata": {},
   "outputs": [],
   "source": []
  },
  {
   "cell_type": "code",
   "execution_count": null,
   "id": "18475e1d-11d2-404f-aaf2-32926fb19fab",
   "metadata": {},
   "outputs": [],
   "source": []
  },
  {
   "cell_type": "raw",
   "id": "510925b5-2707-4d9a-9767-fc92473f01b6",
   "metadata": {},
   "source": [
    "Q3. Write a python program to convert the given list of integers into a tuple of strings. Use map and lambda functions.\n",
    "Given String: [1,2,3,4,5,6,7,8,9,10]\n",
    "Expected output: ('1','2','3','4','5','6','7','8','9','10')"
   ]
  },
  {
   "cell_type": "code",
   "execution_count": 63,
   "id": "96e1b730-670b-4f83-bd3a-6eea43f0dd0c",
   "metadata": {},
   "outputs": [],
   "source": [
    "l3 = [1,2,3,4,5,6,7,8,9,10]"
   ]
  },
  {
   "cell_type": "code",
   "execution_count": 64,
   "id": "19566665-b9fc-4c75-a2bb-30e8838c2aab",
   "metadata": {},
   "outputs": [
    {
     "data": {
      "text/plain": [
       "[1, 2, 3, 4, 5, 6, 7, 8, 9, 10]"
      ]
     },
     "execution_count": 64,
     "metadata": {},
     "output_type": "execute_result"
    }
   ],
   "source": [
    "l3"
   ]
  },
  {
   "cell_type": "code",
   "execution_count": 66,
   "id": "f18595af-37aa-4ec3-8f6e-5567caa30c84",
   "metadata": {},
   "outputs": [
    {
     "data": {
      "text/plain": [
       "['1', '2', '3', '4', '5', '6', '7', '8', '9', '10']"
      ]
     },
     "execution_count": 66,
     "metadata": {},
     "output_type": "execute_result"
    }
   ],
   "source": [
    "list(map(lambda l3 : str(l3), l3))"
   ]
  },
  {
   "cell_type": "code",
   "execution_count": null,
   "id": "0887bde8-6ca8-42b5-84de-1606fc429c2b",
   "metadata": {},
   "outputs": [],
   "source": []
  },
  {
   "cell_type": "code",
   "execution_count": null,
   "id": "3ff52667-7ca7-458c-8b59-44c8eee73eff",
   "metadata": {},
   "outputs": [],
   "source": []
  },
  {
   "cell_type": "raw",
   "id": "8e1b1b5c-175e-4f20-9b80-541e258a1e8e",
   "metadata": {},
   "source": [
    "Q4. Write a python program using reduce function to compute the product of a list containing numbers from 1 to 25."
   ]
  },
  {
   "cell_type": "code",
   "execution_count": 70,
   "id": "5cb025f8-f981-4320-821b-647845875dd2",
   "metadata": {},
   "outputs": [],
   "source": [
    "from functools import reduce"
   ]
  },
  {
   "cell_type": "code",
   "execution_count": 85,
   "id": "ec9ce4da-7c20-4183-a091-5e148ffdc227",
   "metadata": {},
   "outputs": [],
   "source": [
    "l4 = list(range(1,26))"
   ]
  },
  {
   "cell_type": "code",
   "execution_count": 84,
   "id": "eba2e228-a18b-4d69-8a04-b20056ab8173",
   "metadata": {},
   "outputs": [
    {
     "data": {
      "text/plain": [
       "[1,\n",
       " 2,\n",
       " 3,\n",
       " 4,\n",
       " 5,\n",
       " 6,\n",
       " 7,\n",
       " 8,\n",
       " 9,\n",
       " 10,\n",
       " 11,\n",
       " 12,\n",
       " 13,\n",
       " 14,\n",
       " 15,\n",
       " 16,\n",
       " 17,\n",
       " 18,\n",
       " 19,\n",
       " 20,\n",
       " 21,\n",
       " 22,\n",
       " 23,\n",
       " 24,\n",
       " 25]"
      ]
     },
     "execution_count": 84,
     "metadata": {},
     "output_type": "execute_result"
    }
   ],
   "source": [
    "l4"
   ]
  },
  {
   "cell_type": "code",
   "execution_count": 86,
   "id": "1c668d3e-fbd4-4d96-81bf-0504b8683690",
   "metadata": {},
   "outputs": [
    {
     "data": {
      "text/plain": [
       "15511210043330985984000000"
      ]
     },
     "execution_count": 86,
     "metadata": {},
     "output_type": "execute_result"
    }
   ],
   "source": [
    "reduce(lambda x, y : x*y , l4)"
   ]
  },
  {
   "cell_type": "code",
   "execution_count": null,
   "id": "cd45dcb6-856d-4e5b-b87f-831fcac1c91b",
   "metadata": {},
   "outputs": [],
   "source": []
  },
  {
   "cell_type": "code",
   "execution_count": null,
   "id": "42e3fb22-9be1-468f-9dad-b249d8824b13",
   "metadata": {},
   "outputs": [],
   "source": []
  },
  {
   "cell_type": "raw",
   "id": "d6111e88-55e2-4eaf-9cf7-78b52dc7f612",
   "metadata": {},
   "source": [
    "Q5. Write a python program to filter the numbers in a given list that are divisible by 2 and 3 using the filter function.\n",
    "[2,3,6,9,27,60,90,120,55,46]"
   ]
  },
  {
   "cell_type": "code",
   "execution_count": 87,
   "id": "b2020b77-29bd-403b-92e8-2226212b98be",
   "metadata": {},
   "outputs": [],
   "source": [
    "l5 = [2,3,6,9,27,60,90,120,55,46]"
   ]
  },
  {
   "cell_type": "code",
   "execution_count": 88,
   "id": "22c89356-b014-4827-9d54-4746e1181120",
   "metadata": {},
   "outputs": [
    {
     "data": {
      "text/plain": [
       "[2, 3, 6, 9, 27, 60, 90, 120, 55, 46]"
      ]
     },
     "execution_count": 88,
     "metadata": {},
     "output_type": "execute_result"
    }
   ],
   "source": [
    "l5"
   ]
  },
  {
   "cell_type": "code",
   "execution_count": 89,
   "id": "ce5ad47a-c53b-4210-8cfc-a8391080a547",
   "metadata": {},
   "outputs": [
    {
     "data": {
      "text/plain": [
       "[6, 60, 90, 120]"
      ]
     },
     "execution_count": 89,
     "metadata": {},
     "output_type": "execute_result"
    }
   ],
   "source": [
    "list(filter(lambda x: x%2 ==0 and x%3==0, l5))"
   ]
  },
  {
   "cell_type": "code",
   "execution_count": null,
   "id": "2993047c-ce16-4856-8a5e-2cb308d619a6",
   "metadata": {},
   "outputs": [],
   "source": []
  },
  {
   "cell_type": "code",
   "execution_count": null,
   "id": "f3ec0522-91b4-4de8-bca5-13332a7a789a",
   "metadata": {},
   "outputs": [],
   "source": []
  },
  {
   "cell_type": "raw",
   "id": "79f46331-0135-4f81-9bee-d8098f450e22",
   "metadata": {},
   "source": [
    "Q6. Write a python program to find palindromes in the given list of string using lambda and filter function.\n",
    "['python','php','aba','radar','level']"
   ]
  },
  {
   "cell_type": "code",
   "execution_count": 90,
   "id": "721972f0-9957-4024-a283-568730f018f2",
   "metadata": {},
   "outputs": [],
   "source": [
    "l6 = ['python','php','aba','radar','level']"
   ]
  },
  {
   "cell_type": "code",
   "execution_count": 91,
   "id": "7e37dce4-ed39-4494-8d04-74c800ab398b",
   "metadata": {},
   "outputs": [
    {
     "data": {
      "text/plain": [
       "['python', 'php', 'aba', 'radar', 'level']"
      ]
     },
     "execution_count": 91,
     "metadata": {},
     "output_type": "execute_result"
    }
   ],
   "source": [
    "l6"
   ]
  },
  {
   "cell_type": "code",
   "execution_count": 96,
   "id": "95ee62c6-2170-464d-ae16-49bfb8c42d7f",
   "metadata": {},
   "outputs": [
    {
     "data": {
      "text/plain": [
       "['php', 'aba', 'radar', 'level']"
      ]
     },
     "execution_count": 96,
     "metadata": {},
     "output_type": "execute_result"
    }
   ],
   "source": [
    "list(filter(lambda x : (x == \"\".join(reversed(x))), l6))"
   ]
  },
  {
   "cell_type": "code",
   "execution_count": null,
   "id": "38959a9f-224b-4059-a9ee-8ae558ec78cc",
   "metadata": {},
   "outputs": [],
   "source": []
  },
  {
   "cell_type": "code",
   "execution_count": null,
   "id": "9121fa4f-f976-490a-a35b-e345f4925afc",
   "metadata": {},
   "outputs": [],
   "source": []
  }
 ],
 "metadata": {
  "kernelspec": {
   "display_name": "Python 3 (ipykernel)",
   "language": "python",
   "name": "python3"
  },
  "language_info": {
   "codemirror_mode": {
    "name": "ipython",
    "version": 3
   },
   "file_extension": ".py",
   "mimetype": "text/x-python",
   "name": "python",
   "nbconvert_exporter": "python",
   "pygments_lexer": "ipython3",
   "version": "3.10.8"
  }
 },
 "nbformat": 4,
 "nbformat_minor": 5
}
